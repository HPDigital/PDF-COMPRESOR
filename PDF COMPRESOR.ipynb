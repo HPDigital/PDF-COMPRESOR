{
 "cells": [
  {
   "cell_type": "code",
   "execution_count": 26,
   "id": "4ba9c721-1ee2-4fa3-97cd-b5faf2dfa6d4",
   "metadata": {},
   "outputs": [
    {
     "name": "stdout",
     "output_type": "stream",
     "text": [
      "No se pudo alcanzar el tamaño entre 45 KB y 50 KB. Se ha intentado con el DPI más bajo posible.\n"
     ]
    }
   ],
   "source": [
    "import fitz  # PyMuPDF\n",
    "import os\n",
    "\n",
    "def compress_pdf(input_pdf_path, output_pdf_path, min_size_kb=60, max_size_kb=100, dpi_start=30, dpi_step=10):\n",
    "    # Abre el archivo PDF original\n",
    "    pdf_document = fitz.open(input_pdf_path)\n",
    "    \n",
    "    # Solo aseguramos que haya una página en el PDF\n",
    "    if pdf_document.page_count != 1:\n",
    "        print(\"Este código está diseñado para manejar PDFs de una sola página.\")\n",
    "        return\n",
    "    \n",
    "    dpi = dpi_start\n",
    "    compressed = False\n",
    "    \n",
    "    while not compressed and dpi > 5:\n",
    "        # Crea un nuevo archivo PDF comprimido\n",
    "        pdf_document_new = fitz.open()\n",
    "        \n",
    "        # Carga la única página del PDF\n",
    "        page = pdf_document.load_page(0)  # Carga la única página\n",
    "        # Reduce la resolución (DPI más bajo para mayor compresión)\n",
    "        pix = page.get_pixmap(matrix=fitz.Matrix(dpi / 72, dpi / 72))\n",
    "        \n",
    "        # Crea una nueva página en el PDF de salida con el mismo tamaño que la original\n",
    "        pdf_document_new.new_page(width=page.rect.width, height=page.rect.height)\n",
    "        \n",
    "        # Inserta la imagen (pixmap) en la nueva página\n",
    "        pdf_document_new[-1].insert_image(page.rect, pixmap=pix)\n",
    "        \n",
    "        # Guarda el archivo PDF comprimido\n",
    "        temp_output_path = output_pdf_path.replace(\".pdf\", f\"_{dpi}dpi.pdf\")\n",
    "        pdf_document_new.save(temp_output_path)\n",
    "        pdf_document_new.close()\n",
    "\n",
    "        # Verifica el tamaño del archivo resultante\n",
    "        file_size_kb = os.path.getsize(temp_output_path) / 1024  # en KB\n",
    "\n",
    "        # Si el tamaño está entre los límites deseados, se considera éxito\n",
    "        if min_size_kb <= file_size_kb <= max_size_kb:\n",
    "            os.rename(temp_output_path, output_pdf_path)\n",
    "            compressed = True\n",
    "            print(f\"Compresión exitosa con DPI={dpi}, tamaño={file_size_kb:.2f}KB\")\n",
    "        else:\n",
    "            # Elimina el archivo temporal si no cumple con los requisitos\n",
    "            os.remove(temp_output_path)\n",
    "            dpi -= dpi_step  # Reduce el DPI para intentar una compresión mayor\n",
    "\n",
    "    pdf_document.close()\n",
    "\n",
    "    if not compressed:\n",
    "        print(\"No se pudo alcanzar el tamaño entre 45 KB y 50 KB. Se ha intentado con el DPI más bajo posible.\")\n",
    "    else:\n",
    "        print(f\"Archivo PDF comprimido guardado en: {output_pdf_path}\")\n",
    "\n",
    "# Ruta del archivo original y comprimido\n",
    "input_pdf_path = r\"C:\\Users\\HP\\Downloads\\Secundaria - 6to D - Poleyn Debesson, Pierre Luk_240919_115334.pdf\"\n",
    "output_pdf_path = r\"C:\\Users\\HP\\Downloads\\compressed_45_50.pdf\"\n",
    "\n",
    "# Ejecuta la compresión\n",
    "compress_pdf(input_pdf_path, output_pdf_path)\n"
   ]
  },
  {
   "cell_type": "code",
   "execution_count": null,
   "id": "60797f36-370f-4ea8-b8c0-dd885ffa249d",
   "metadata": {},
   "outputs": [],
   "source": []
  }
 ],
 "metadata": {
  "kernelspec": {
   "display_name": "Python 3 (ipykernel)",
   "language": "python",
   "name": "python3"
  },
  "language_info": {
   "codemirror_mode": {
    "name": "ipython",
    "version": 3
   },
   "file_extension": ".py",
   "mimetype": "text/x-python",
   "name": "python",
   "nbconvert_exporter": "python",
   "pygments_lexer": "ipython3",
   "version": "3.11.9"
  }
 },
 "nbformat": 4,
 "nbformat_minor": 5
}
